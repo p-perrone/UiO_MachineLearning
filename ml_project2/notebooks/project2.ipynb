{
 "cells": [
  {
   "cell_type": "markdown",
   "id": "96e577ca",
   "metadata": {
    "editable": true
   },
   "source": [
    "<!-- HTML file automatically generated from DocOnce source (https://github.com/doconce/doconce/)\n",
    "doconce format html Project2.do.txt  -->\n",
    "<!-- dom:TITLE: Project 2 on Machine Learning, deadline November 10 (Midnight) -->"
   ]
  },
  {
   "cell_type": "markdown",
   "id": "067c02b9",
   "metadata": {
    "editable": true
   },
   "source": [
    "# Project 2 on Machine Learning, deadline November 10 (Midnight)\n",
    "**[Data Analysis and Machine Learning FYS-STK3155/FYS4155](http://www.uio.no/studier/emner/matnat/fys/FYS3155/index-eng.html)**, University of Oslo, Norway\n",
    "\n",
    "Date: **October 14, 2025**"
   ]
  },
  {
   "cell_type": "markdown",
   "id": "01f9fedd",
   "metadata": {
    "editable": true
   },
   "source": [
    "## Deliverables\n",
    "\n",
    "First, join a group in canvas with your group partners. Pick an avaliable group for Project 2 in the **People** page.\n",
    "\n",
    "In canvas, deliver as a group and include:\n",
    "\n",
    "* A PDF of your report which follows the guidelines covered below and in the week 39 exercises. Additional requirements include:\n",
    "\n",
    "  * It should be around 5000 words, use the word counter in Overleaf for this. This often corresponds to 10-12 pages. References and appendices are excluded from the word count\n",
    "\n",
    "  * It should include around 10-15 figures. You can include more figures in appendices and/or as supplemental material in your repository.\n",
    "\n",
    "* A comment linking to your github repository (or folder in one of your github repositories) for this project. The repository must include\n",
    "\n",
    "A PDF file of the report\n",
    "  * A folder named Code, where you put python files for your functions and notebooks for reproducing your results. Remember to use a seed for generating random data and for train-test splits when generating final results.\n",
    "\n",
    "  * A README file with the name of the group members\n",
    "\n",
    "  * a short description of the project\n",
    "\n",
    "  * a description of how to install the required packages to run your code from a requirements.txt file or similar (such as a plain text description) names and descriptions of the various notebooks in the Code folder and the results they produce"
   ]
  },
  {
   "cell_type": "markdown",
   "id": "9f8e4871",
   "metadata": {
    "editable": true
   },
   "source": [
    "### Preamble: Note on writing reports, using reference material, AI and other tools\n",
    "\n",
    "We want you to answer the three different projects by handing in\n",
    "reports written like a standard scientific/technical report. The links\n",
    "at\n",
    "https://github.com/CompPhysics/MachineLearning/tree/master/doc/Projects\n",
    "contain more information. There you can find examples of previous\n",
    "reports, the projects themselves, how we grade reports etc. How to\n",
    "write reports will also be discussed during the various lab\n",
    "sessions. Please do ask us if you are in doubt.\n",
    "\n",
    "When using codes and material from other sources, you should refer to\n",
    "these in the bibliography of your report, indicating wherefrom you for\n",
    "example got the code, whether this is from the lecture notes,\n",
    "softwares like Scikit-Learn, TensorFlow, PyTorch or other\n",
    "sources. These sources should always be cited correctly. How to cite\n",
    "some of the libraries is often indicated from their corresponding\n",
    "GitHub sites or websites, see for example how to cite Scikit-Learn at\n",
    "https://scikit-learn.org/dev/about.html.\n",
    "\n",
    "We enocurage you to use tools like ChatGPT or similar in writing the\n",
    "report. If you use for example ChatGPT, please do cite it properly and\n",
    "include (if possible) your questions and answers as an addition to the\n",
    "report. This can be uploaded to for example your website,\n",
    "GitHub/GitLab or similar as supplemental material.\n",
    "\n",
    "If you would like to study other data sets, feel free to propose other\n",
    "sets. What we have proposed here are mere suggestions from our\n",
    "side. If you opt for another data set, consider using a set which has\n",
    "been studied in the scientific literature. This makes it easier for\n",
    "you to compare and analyze your results. Comparing with existing\n",
    "results from the scientific literature is also an essential element of\n",
    "the scientific discussion. The University of California at Irvine with\n",
    "its Machine Learning repository at\n",
    "https://archive.ics.uci.edu/ml/index.php is an excellent site to look\n",
    "up for examples and inspiration. Kaggle.com is an equally interesting\n",
    "site. Feel free to explore these sites."
   ]
  },
  {
   "cell_type": "markdown",
   "id": "460cc6ea",
   "metadata": {
    "editable": true
   },
   "source": [
    "## Classification and Regression, writing our own neural network code\n",
    "\n",
    "The main aim of this project is to study both classification and\n",
    "regression problems by developing our own \n",
    "feed-forward neural network (FFNN) code. The exercises from week 41 and 42 (see <https://compphysics.github.io/MachineLearning/doc/LectureNotes/_build/html/exercisesweek41.html> and <https://compphysics.github.io/MachineLearning/doc/LectureNotes/_build/html/exercisesweek42.html>) as well as the lecture material from the same weeks (see  <https://compphysics.github.io/MachineLearning/doc/LectureNotes/_build/html/week41.html> and <https://compphysics.github.io/MachineLearning/doc/LectureNotes/_build/html/week42.html>) should contain enough information for you to get started with writing your own code.\n",
    "\n",
    "We will also reuse our codes on gradient descent methods from project 1.\n",
    "\n",
    "The data sets that we propose here are (the default sets)\n",
    "\n",
    "* Regression (fitting a continuous function). In this part you will need to bring back your results from project 1 and compare these with what you get from your Neural Network code to be developed here. The data sets could be\n",
    "\n",
    "  * The simple one-dimensional function Runge function from project 1, that is $f(x) = \\frac{1}{1+25x^2}$. We recommend using a simpler function when developing your neural network code for regression problems. Feel however free to discuss and study other functions, such as the two-dimensional Runge function $f(x,y)=\\left[(10x - 5)^2 + (10y - 5)^2 + 1 \\right]^{-1}$, or even more complicated two-dimensional functions (see the supplementary material of <https://www.nature.com/articles/s41467-025-61362-4> for an extensive list of two-dimensional functions). \n",
    "\n",
    "* Classification.\n",
    "\n",
    " * We will consider a multiclass classification problem given by the full MNIST data set. The full data set is at <https://www.kaggle.com/datasets/hojjatk/mnist-dataset>.\n",
    "\n",
    "We will start with a regression problem and we will reuse our codes on gradient descent methods from project 1."
   ]
  },
  {
   "cell_type": "markdown",
   "id": "d62a07ef",
   "metadata": {
    "editable": true
   },
   "source": [
    "### Part a): Analytical warm-up\n",
    "\n",
    "When using our gradient machinery from project 1, we will need the expressions for the cost/loss functions and their respective\n",
    "gradients. The functions whose gradients we need are:\n",
    "1. The mean-squared error (MSE) with and without the $L_1$ and $L_2$ norms (regression problems)\n",
    "\n",
    "2. The binary cross entropy (aka log loss)  for binary classification problems with and without $L_1$ and $L_2$ norms\n",
    "\n",
    "3. The multiclass cross entropy cost/loss function (aka Softmax cross entropy or just Softmax loss function)\n",
    "\n",
    "Set up these three cost/loss functions and their respective derivatives and explain the various terms. In this project you will however only use the MSE and the Softmax  cross entropy.\n",
    "\n",
    "We will test three activation functions for our neural network setup, these are the \n",
    "1. The Sigmoid (aka **logit**) function,\n",
    "\n",
    "2. the RELU function and\n",
    "\n",
    "3. the Leaky RELU function\n",
    "\n",
    "Set up their expressions and their first derivatives.\n",
    "You may consult the lecture notes (with codes and more) from week 42 at <https://compphysics.github.io/MachineLearning/doc/LectureNotes/_build/html/week42.html>."
   ]
  },
  {
   "cell_type": "markdown",
   "id": "9cd8b8ac",
   "metadata": {
    "editable": true
   },
   "source": [
    "### Reminder about the gradient machinery from project 1\n",
    "\n",
    "In the setup of a neural network code you will need your gradient descent codes from\n",
    "project 1.  For neural networks we will recommend using stochastic\n",
    "gradient descent with either the RMSprop or the ADAM algorithms for\n",
    "updating the learning rates. But you should feel free to try plain gradient descent as well.\n",
    "\n",
    "We recommend reading chapter 8 on optimization from the textbook of\n",
    "Goodfellow, Bengio and Courville at\n",
    "<https://www.deeplearningbook.org/>. This chapter contains many\n",
    "useful insights and discussions on the optimization part of machine\n",
    "learning.  A useful reference on the back progagation algorithm is\n",
    "Nielsen's book at <http://neuralnetworksanddeeplearning.com/>. \n",
    "\n",
    "You will find the Python [Seaborn\n",
    "package](https://seaborn.pydata.org/generated/seaborn.heatmap.html)\n",
    "useful when plotting the results as function of the learning rate\n",
    "$\\eta$ and the hyper-parameter $\\lambda$ ."
   ]
  },
  {
   "cell_type": "markdown",
   "id": "5931b155",
   "metadata": {
    "editable": true
   },
   "source": [
    "### Part b): Writing your own Neural Network code\n",
    "\n",
    "Your aim now, and this is the central part of this project, is to\n",
    "write your own FFNN code implementing the back\n",
    "propagation algorithm discussed in the lecture slides from week 41 at <https://compphysics.github.io/MachineLearning/doc/LectureNotes/_build/html/week41.html> and week 42 at <https://compphysics.github.io/MachineLearning/doc/LectureNotes/_build/html/week42.html>.\n",
    "\n",
    "We will focus on a regression problem first, using the one-dimensional Runge function"
   ]
  },
  {
   "cell_type": "markdown",
   "id": "b273fc8a",
   "metadata": {
    "editable": true
   },
   "source": [
    "$$\n",
    "f(x) = \\frac{1}{1+25x^2},\n",
    "$$"
   ]
  },
  {
   "cell_type": "markdown",
   "id": "e13db1ec",
   "metadata": {
    "editable": true
   },
   "source": [
    "from project 1.\n",
    "\n",
    "Use only the mean-squared error as cost function (no regularization terms) and \n",
    "write an FFNN code for a regression problem with a flexible number of hidden\n",
    "layers and nodes using only the Sigmoid function as activation function for\n",
    "the hidden layers. Initialize the weights using a normal\n",
    "distribution. How would you initialize the biases? And which\n",
    "activation function would you select for the final output layer?\n",
    "And how would you set up your design/feature matrix? Hint: does it have to represent a polynomial approximation as you did in project 1? \n",
    "\n",
    "Train your network and compare the results with those from your OLS\n",
    "regression code from project 1 using the one-dimensional Runge\n",
    "function.  When comparing your neural network code with the OLS\n",
    "results from project 1, use the same data sets which gave you the best\n",
    "MSE score. Moreover, use the polynomial order from project 1 that gave you the\n",
    "best result.  Compare these results with your neural network with one\n",
    "and two hidden layers using $50$ and $100$ hidden nodes, respectively.\n",
    "\n",
    "Comment your results and give a critical discussion of the results\n",
    "obtained with the OLS code from project 1 and your own neural network\n",
    "code.  Make an analysis of the learning rates employed to find the\n",
    "optimal MSE score. Test both stochastic gradient descent\n",
    "with RMSprop and ADAM and plain gradient descent with different\n",
    "learning rates.\n",
    "\n",
    "You should, as you did in project 1, scale your data."
   ]
  },
  {
   "cell_type": "code",
   "execution_count": 1,
   "id": "bacd5bac",
   "metadata": {},
   "outputs": [],
   "source": [
    "import autograd.numpy as np\n",
    "import matplotlib.pyplot as plt\n",
    "import seaborn as sns\n",
    "sns.set()\n",
    "sns.set_style(\"darkgrid\", {\"axes.facecolor\": \".95\"})\n",
    "import sys\n",
    "import random\n",
    "import pandas as pd\n",
    "from sklearn.model_selection import train_test_split, KFold\n",
    "from sklearn.metrics import mean_squared_error\n",
    "from sklearn.metrics import r2_score\n",
    "from autograd import grad\n",
    "\n",
    "# own functions\n",
    "from ml_project1.functions import *\n",
    "\n",
    "from matplotlib import rcParams\n",
    "rcParams['text.usetex'] = True\n",
    "rcParams['text.latex.preamble'] = r'\\usepackage{sansmathfonts}'\n",
    "rcParams.update({\n",
    "    \"font.size\": 10,       \n",
    "    \"axes.labelsize\": 10,\n",
    "    \"xtick.labelsize\": 10,\n",
    "    \"ytick.labelsize\": 10,\n",
    "})\n",
    "def saveplot(plotname):\n",
    "    return plt.savefig(\"../LaTeX/images/{}.pdf\".format(str(plotname)))\n",
    "cw = 8.325/2.54\n",
    "tw = 17/2.54"
   ]
  },
  {
   "cell_type": "code",
   "execution_count": 12,
   "id": "c1d3378f",
   "metadata": {},
   "outputs": [],
   "source": [
    "def Runge(x, noise=True, noisescale=1):\n",
    "    \"\"\"Computes Runge function with or without normally distributed noise.\"\"\"\n",
    "    if not isinstance(noise, bool):\n",
    "        raise TypeError(f\"`noise` must be boolean (True or False) and not {type(noise)}\")\n",
    "\n",
    "    y = 1 / (1 + 25 * x**2)\n",
    "\n",
    "    if noise:\n",
    "        y += np.random.normal(loc=0, scale=noisescale, size=x.shape)\n",
    "\n",
    "    return y"
   ]
  },
  {
   "cell_type": "code",
   "execution_count": 3,
   "id": "762e7e84",
   "metadata": {},
   "outputs": [],
   "source": [
    "import autograd.numpy as np  # We need to use this numpy wrapper to make automatic differentiation work later\n",
    "from autograd import grad, elementwise_grad\n",
    "from sklearn import datasets\n",
    "import matplotlib.pyplot as plt\n",
    "from sklearn.metrics import accuracy_score\n",
    "\n",
    "\n",
    "# Defining some activation functions\n",
    "def ReLU(z):\n",
    "    return np.where(z > 0, z, 0)\n",
    "\n",
    "\n",
    "# Derivative of the ReLU function\n",
    "def ReLU_der(z):\n",
    "    return np.where(z > 0, 1, 0)\n",
    "\n",
    "\n",
    "def sigmoid(z):\n",
    "    return 1 / (1 + np.exp(-z))\n",
    "\n",
    "\n",
    "def mse(predict, target):\n",
    "    return np.mean((predict - target) ** 2)\n",
    "\n",
    "def sigmoid_der(z):\n",
    "    # -(1 + np.exp(-z))^(-2) * (-np.exp(-x))\n",
    "    return np.exp(-z) / (1 + np.exp(-z))**2\n",
    "\n",
    "def mse_der(predict, target):\n",
    "    return 2 * (predict - target) / predict.size"
   ]
  },
  {
   "cell_type": "code",
   "execution_count": null,
   "id": "bd5844c5",
   "metadata": {},
   "outputs": [],
   "source": [
    "class Scheduler:\n",
    "    \"\"\"\n",
    "    Abstract class for Schedulers\n",
    "    \"\"\"\n",
    "\n",
    "    def __init__(self, eta=1e-3):\n",
    "        self.eta = eta\n",
    "\n",
    "    # should be overwritten\n",
    "    def update_change(self, gradient):\n",
    "        raise NotImplementedError\n",
    "\n",
    "    # overwritten if needed\n",
    "    def reset(self):\n",
    "        pass\n",
    "\n",
    "class Constant(Scheduler):\n",
    "    def __init__(self, eta):\n",
    "        super().__init__(eta)\n",
    "\n",
    "    def update_change(self, gradient):\n",
    "        return self.eta * gradient\n",
    "    \n",
    "    def reset(self):\n",
    "        pass\n",
    "\n",
    "class RMSProp(Scheduler):\n",
    "    def __init__(self, eta, beta1=0.99):\n",
    "        super().__init__(eta)\n",
    "        self.beta = beta\n",
    "        self.second = 0.0\n",
    "\n",
    "    def update_change(self, gradient):\n",
    "        delta = 1e-8  # avoid division ny zero\n",
    "        self.second = self.beta * self.second + (1 - self.beta) * gradient * gradient\n",
    "        return self.eta * gradient / (np.sqrt(self.second + delta))\n",
    "\n",
    "    def reset(self):\n",
    "        self.second = 0.0\n",
    "\n",
    "\n",
    "class Adam(Scheduler):\n",
    "    def __init__(self, eta, beta1=0.99, beta2=0.9):\n",
    "        super().__init__(eta)\n",
    "        self.beta1 = beta1\n",
    "        self.beta2 = beta2\n",
    "        self.moment = 0\n",
    "        self.second = 0\n",
    "        self.n_epochs = 1\n",
    "\n",
    "    def update_change(self, gradient):\n",
    "        delta = 1e-8  # avoid division ny zero\n",
    "\n",
    "        self.moment = self.beta1 * self.moment + (1 - self.beta1) * gradient\n",
    "        self.second = self.beta2 * self.second + (1 - self.beta2) * gradient * gradient\n",
    "\n",
    "        moment_corrected = self.moment / (1 - self.beta1**self.n_epochs)\n",
    "        second_corrected = self.second / (1 - self.beta2**self.n_epochs)\n",
    "\n",
    "        return self.eta * moment_corrected / (np.sqrt(second_corrected + delta))\n",
    "\n",
    "    def reset(self):\n",
    "        self.n_epochs += 1\n",
    "        self.moment = 0\n",
    "        self.second = 0"
   ]
  },
  {
   "cell_type": "code",
   "execution_count": null,
   "id": "074af8a8",
   "metadata": {},
   "outputs": [],
   "source": [
    "class NeuralNetwork:\n",
    "    \"\"\"\n",
    "    Creates Neural Network object, adapted to batch inputs of shape \\\n",
    "    (< number of samples >, < number of features >). \n",
    "    It supports:\n",
    "    - layers creation\n",
    "    - simple Feed Forward algorithm\n",
    "    - cost function definition\n",
    "    - Feed Forward with variables saving\n",
    "    - Back Propagation\n",
    "    \"\"\"\n",
    "\n",
    "    def __init__(\n",
    "        self,\n",
    "        network_input_size,\n",
    "        layer_output_sizes,\n",
    "        activation_funcs,\n",
    "        activation_ders,\n",
    "        cost_func,\n",
    "        cost_der,\n",
    "    ):\n",
    "        self.network_input_size = network_input_size\n",
    "        self.layer_output_sizes = layer_output_sizes\n",
    "        self.activation_funcs = activation_funcs\n",
    "        self.activation_ders = activation_ders\n",
    "        self.cost_fun = cost_func\n",
    "        self.cost_der = cost_der\n",
    "\n",
    "        self.layers = list()\n",
    "        self.layer_inputs = list()\n",
    "        self.Zs = list()\n",
    "        self.scheduler = None\n",
    "        self.weights = list()\n",
    "        self.schedulers_weight = list()\n",
    "        self.schedulers_bias = list()\n",
    "\n",
    "\n",
    "    def _create_layers(self):\n",
    "\n",
    "        i_size = self.network_input_size\n",
    "\n",
    "        for layer_output_size in self.layer_output_sizes:\n",
    "\n",
    "            W = np.random.randn(i_size, layer_output_size)\n",
    "            b = np.random.randn(1, layer_output_size)\n",
    "            self.layers.append((W, b))\n",
    "\n",
    "            i_size = layer_output_size\n",
    "\n",
    "        self.layer_grads = [() for _ in self.layers]    \n",
    "        return self.layers\n",
    "    \n",
    "\n",
    "    def _predict(self, inputs):\n",
    "\n",
    "        if self.layers is None:\n",
    "            raise ValueError(\"`self.layers` is still None (empty tuple). You must run `_create_layers()` \"\\\n",
    "                             \"before performing Feed Forward or Back Propagation.\")\n",
    "\n",
    "        if np.shape(inputs)[1] == self.network_input_size: \n",
    "            A = inputs\n",
    "        else:\n",
    "            raise ValueError(f\"Second dimension of inputs must match `network_input_size` (= number of features). \"\\\n",
    "                             f\"Inputs matrix has shape {inputs.shape}, but it should be {inputs.shape[0], self.network_input_size}. \\n\"\\\n",
    "                             \"Either change your inputs matrix or `network_input_size`\")\n",
    "        \n",
    "        for (W, b), activation_func in zip(self.layers, self.activation_funcs):\n",
    "            Z = A @ W + b\n",
    "            A = activation_func(Z)\n",
    "\n",
    "        return A\n",
    "\n",
    "\n",
    "    def cost(self, inputs, targets):\n",
    "        return mse\n",
    "\n",
    "\n",
    "    def _feed_forward_saver(self, inputs):\n",
    "\n",
    "        if self.layers is None:\n",
    "            raise ValueError(\"`self.layers` is still None (empty tuple). You must call `_create_layers()` \"\\\n",
    "                             \"before performing Feed Forward or Back Propagation.\")\n",
    "\n",
    "        if np.shape(inputs)[1] == self.network_input_size: \n",
    "            A = inputs\n",
    "        else:\n",
    "            raise ValueError(f\"Second dimension of inputs must match `network_input_size` (= number of features). \"\\\n",
    "                             f\"Inputs matrix has shape {inputs.shape}, but it should be {inputs.shape[0], self.network_input_size}. \\n\"\\\n",
    "                             \"Either change your inputs matrix or `network_input_size`\")\n",
    "        \n",
    "        self.layer_inputs = []\n",
    "        self.Zs = []\n",
    "\n",
    "        for (W, b), activation_func in zip(self.layers, self.activation_funcs):\n",
    "            \n",
    "            self.layer_inputs.append(A)\n",
    "            Z = A @ W + b\n",
    "            A = activation_func(Z)\n",
    "            self.Zs.append(Z)\n",
    "\n",
    "        return self.layer_inputs, self.Zs, A\n",
    "    \n",
    "\n",
    "    def _backpropagate(self, inputs, targets):\n",
    "        \n",
    "        if self.layers is not None:\n",
    "            layer_inputs, zs, predict = self._feed_forward_saver(inputs)\n",
    "        else:\n",
    "            raise ValueError(\"`self.layers` is still None (empty tuple). You must call `_create_layers()` \"\\\n",
    "                             \"before performing Feed Forward or Back Propagation.\")\n",
    "\n",
    "        # We loop over the layers, from the last to the first\n",
    "        for i in reversed(range(len(self.layers))):\n",
    "            layer_input, z, activation_der = layer_inputs[i], zs[i], self.activation_ders[i]\n",
    "            print(f\"a[{i}]: {layer_input.shape}, z{i}: [{z.shape}]\")\n",
    "\n",
    "            if i == len(self.layers) - 1:\n",
    "                # For last layer we use cost derivative as dC_da(L) can be computed directly\n",
    "                dC_da = self.cost_der(predict, targets)\n",
    "                print(f\"dC_da={dC_da.shape}\")\n",
    "                pass\n",
    "            else:\n",
    "                # For other layers we build on previous z derivative, as dC_da(i) = dC_dz(i+1) * dz(i+1)_da(i)\n",
    "                (W, b) = self.layers[i + 1]\n",
    "                dC_da = delta @ W.T\n",
    "                print(f\"Layer {i}: dC_dz={delta.shape}, W={W.shape}, dC_da={dC_da.shape}\")\n",
    "\n",
    "            delta = dC_da * activation_der(z)\n",
    "            dC_dW = layer_input.T @ delta\n",
    "            print(f\"dCdW {dC_dW.shape} = a {layer_input.shape} . delta {delta.shape}\")\n",
    "            dC_db = np.sum(delta, axis=0, keepdims=True) / inputs.shape[0]\n",
    "            print(f\"sigma' = {activation_der(z).shape}\")\n",
    "            print(\"------------------------------\")\n",
    "\n",
    "            self.layer_grads[i] = (dC_dW, dC_db)\n",
    "            \n",
    "        return self.layer_grads\n",
    "    \n",
    "\n",
    "    def _define_scheduler(self, type=\"Constant\", eta=1e-3, beta=0.99, beta1=0.9, beta2=0.99):\n",
    "        \n",
    "        if type == \"Constant\":\n",
    "            self.scheduler = Constant(eta)\n",
    "        elif type == \"RMSProp\":\n",
    "            self.scheduler = RMSProp(eta, beta=beta)\n",
    "        elif type == \"Adam\":\n",
    "            self.scheduler = Adam(eta, beta1=beta1, beta2=beta2)\n",
    "        else:\n",
    "            raise ValueError(f\"Scheduler type {type} not defined. Can be 'Constant', 'RMSProp' or 'Adam'.\")\n",
    "        \n",
    "        return self.scheduler\n",
    "\n",
    "\n",
    "    def _update_weights(self):\n",
    "        \n",
    "        if self.scheduler == None:\n",
    "            raise ValueError(f\"`self.scheduler` is None. You must call `_define_scheduler()` before updating the weigths.\")\n",
    "        \n",
    "        self.\n",
    "        "
   ]
  },
  {
   "cell_type": "code",
   "execution_count": 47,
   "id": "a5b31853",
   "metadata": {},
   "outputs": [
    {
     "name": "stdout",
     "output_type": "stream",
     "text": [
      "a[5]: (5, 7), z5: [(5, 8)]\n",
      "dC_da=(5, 8)\n",
      "dCdW (7, 8) = a (5, 7) . delta (5, 8)\n",
      "sigma' = (5, 8)\n",
      "------------------------------\n",
      "a[4]: (5, 3), z4: [(5, 7)]\n",
      "Layer 4: dC_dz=(5, 8), W=(7, 8), dC_da=(5, 7)\n",
      "dCdW (3, 7) = a (5, 3) . delta (5, 7)\n",
      "sigma' = (5, 7)\n",
      "------------------------------\n",
      "a[3]: (5, 2), z3: [(5, 3)]\n",
      "Layer 3: dC_dz=(5, 7), W=(3, 7), dC_da=(5, 3)\n",
      "dCdW (2, 3) = a (5, 2) . delta (5, 3)\n",
      "sigma' = (5, 3)\n",
      "------------------------------\n",
      "a[2]: (5, 200), z2: [(5, 2)]\n",
      "Layer 2: dC_dz=(5, 3), W=(2, 3), dC_da=(5, 2)\n",
      "dCdW (200, 2) = a (5, 200) . delta (5, 2)\n",
      "sigma' = (5, 2)\n",
      "------------------------------\n",
      "a[1]: (5, 7), z1: [(5, 200)]\n",
      "Layer 1: dC_dz=(5, 2), W=(200, 2), dC_da=(5, 200)\n",
      "dCdW (7, 200) = a (5, 7) . delta (5, 200)\n",
      "sigma' = (5, 200)\n",
      "------------------------------\n",
      "a[0]: (5, 3), z0: [(5, 7)]\n",
      "Layer 0: dC_dz=(5, 200), W=(7, 200), dC_da=(5, 7)\n",
      "dCdW (3, 7) = a (5, 3) . delta (5, 7)\n",
      "sigma' = (5, 7)\n",
      "------------------------------\n",
      "(3, 7)\n",
      "(1, 7)\n",
      "(7, 200)\n",
      "(1, 200)\n",
      "(200, 2)\n",
      "(1, 2)\n",
      "(2, 3)\n",
      "(1, 3)\n",
      "(3, 7)\n",
      "(1, 7)\n",
      "(7, 8)\n",
      "(1, 8)\n",
      "(3, 7)\n",
      "(1, 7)\n",
      "(7, 200)\n",
      "(1, 200)\n",
      "(200, 2)\n",
      "(1, 2)\n",
      "(2, 3)\n",
      "(1, 3)\n",
      "(3, 7)\n",
      "(1, 7)\n",
      "(7, 8)\n",
      "(1, 8)\n"
     ]
    }
   ],
   "source": [
    "NN = NeuralNetwork(\n",
    "    network_input_size=3,\n",
    "    layer_output_sizes=[7, 200, 2, 3, 7, 8],\n",
    "    activation_funcs=[ReLU, ReLU, sigmoid, sigmoid, sigmoid, sigmoid],\n",
    "    activation_ders=[ReLU_der, ReLU_der, sigmoid_der, sigmoid_der, sigmoid_der, sigmoid_der],\n",
    "    cost_func=mse,\n",
    "    cost_der=mse_der\n",
    ")\n",
    "layers = NN._create_layers()\n",
    "inputs = np.random.rand(5, 3)\n",
    "targets = np.random.rand(5, 1)\n",
    "NN._predict(inputs)\n",
    "grads = NN._backpropagate(inputs, targets)\n",
    "\n",
    "for g in grads:\n",
    "    for gi in g:\n",
    "        print(gi.shape)\n",
    "\n",
    "for g in layers:\n",
    "    for gi in g:\n",
    "        print(gi.shape)\n"
   ]
  },
  {
   "cell_type": "code",
   "execution_count": 53,
   "id": "004a63b9",
   "metadata": {},
   "outputs": [
    {
     "name": "stdout",
     "output_type": "stream",
     "text": [
      "True\n",
      "True\n",
      "True\n",
      "True\n",
      "True\n",
      "True\n"
     ]
    }
   ],
   "source": [
    "for l, g in zip(layers, grads):\n",
    "    for sl, sg in zip(l, g):\n",
    "        print(sl.shape == sg.shape)"
   ]
  },
  {
   "cell_type": "code",
   "execution_count": 48,
   "id": "54da59ab",
   "metadata": {},
   "outputs": [
    {
     "name": "stdout",
     "output_type": "stream",
     "text": [
      "(100, 1)\n"
     ]
    }
   ],
   "source": [
    "x = np.linspace(-1, 1, 100).reshape(-1, 1)\n",
    "y = Runge(x, noise=False)\n",
    "print(y.shape)\n",
    "x_train, x_test, y_train, y_test = train_test_split(x, y, test_size=0.2)\n",
    "scaler = StandardScaler()\n",
    "x_train = scaler.fit_transform(x_train)\n",
    "x_test = scaler.transform(x_test)\n",
    "x = scaler.transform(x)"
   ]
  },
  {
   "cell_type": "code",
   "execution_count": 49,
   "id": "3f83fb5c",
   "metadata": {},
   "outputs": [
    {
     "data": {
      "text/plain": [
       "(100, 1)"
      ]
     },
     "execution_count": 49,
     "metadata": {},
     "output_type": "execute_result"
    }
   ],
   "source": [
    "x.shape"
   ]
  },
  {
   "cell_type": "code",
   "execution_count": 50,
   "id": "f9623b29",
   "metadata": {},
   "outputs": [
    {
     "name": "stdout",
     "output_type": "stream",
     "text": [
      "a[2]: (100, 6), z2: [(100, 1)]\n",
      "dC_da=(100, 1)\n",
      "dCdW (6, 1) = a (100, 6) . delta (100, 1)\n",
      "sigma' = (100, 1)\n",
      "------------------------------\n",
      "a[1]: (100, 30), z1: [(100, 6)]\n",
      "Layer 1: dC_dz=(100, 1), W=(6, 1), dC_da=(100, 6)\n",
      "dCdW (30, 6) = a (100, 30) . delta (100, 6)\n",
      "sigma' = (100, 6)\n",
      "------------------------------\n",
      "a[0]: (100, 1), z0: [(100, 30)]\n",
      "Layer 0: dC_dz=(100, 6), W=(30, 6), dC_da=(100, 30)\n",
      "dCdW (1, 30) = a (100, 1) . delta (100, 30)\n",
      "sigma' = (100, 30)\n",
      "------------------------------\n",
      "3\n",
      "[[0.42798528]\n",
      " [0.4271632 ]\n",
      " [0.42632929]\n",
      " [0.42548267]\n",
      " [0.42462252]\n",
      " [0.42374809]\n",
      " [0.42285875]\n",
      " [0.42195394]\n",
      " [0.42103325]\n",
      " [0.42009642]\n",
      " [0.41914336]\n",
      " [0.41817416]\n",
      " [0.41718912]\n",
      " [0.41618879]\n",
      " [0.41517392]\n",
      " [0.41414557]\n",
      " [0.41310505]\n",
      " [0.41205397]\n",
      " [0.41099422]\n",
      " [0.40992798]\n",
      " [0.40885775]\n",
      " [0.40778629]\n",
      " [0.40671661]\n",
      " [0.40565198]\n",
      " [0.40459589]\n",
      " [0.40355196]\n",
      " [0.40252396]\n",
      " [0.40151572]\n",
      " [0.40053107]\n",
      " [0.3995738 ]\n",
      " [0.39864758]\n",
      " [0.3977559 ]\n",
      " [0.39690202]\n",
      " [0.39608888]\n",
      " [0.39531911]\n",
      " [0.39459495]\n",
      " [0.39391826]\n",
      " [0.39329045]\n",
      " [0.39271256]\n",
      " [0.3921852 ]\n",
      " [0.3917086 ]\n",
      " [0.39128268]\n",
      " [0.39090702]\n",
      " [0.39058096]\n",
      " [0.39030361]\n",
      " [0.39007392]\n",
      " [0.3898907 ]\n",
      " [0.38975268]\n",
      " [0.38965852]\n",
      " [0.38960683]\n",
      " [0.38959624]\n",
      " [0.38962534]\n",
      " [0.38969273]\n",
      " [0.38979702]\n",
      " [0.38993681]\n",
      " [0.39011071]\n",
      " [0.3903173 ]\n",
      " [0.39055517]\n",
      " [0.39082288]\n",
      " [0.39111897]\n",
      " [0.39144195]\n",
      " [0.3917903 ]\n",
      " [0.39216248]\n",
      " [0.3925569 ]\n",
      " [0.39297197]\n",
      " [0.39340607]\n",
      " [0.39385756]\n",
      " [0.39432479]\n",
      " [0.3948061 ]\n",
      " [0.39529986]\n",
      " [0.39580442]\n",
      " [0.39631816]\n",
      " [0.39683949]\n",
      " [0.39736684]\n",
      " [0.39789868]\n",
      " [0.39843354]\n",
      " [0.39896997]\n",
      " [0.39950661]\n",
      " [0.40004213]\n",
      " [0.40057528]\n",
      " [0.40110487]\n",
      " [0.40162978]\n",
      " [0.40214897]\n",
      " [0.40266144]\n",
      " [0.40316631]\n",
      " [0.40366274]\n",
      " [0.40414997]\n",
      " [0.40462732]\n",
      " [0.40509417]\n",
      " [0.40554998]\n",
      " [0.40599427]\n",
      " [0.40642662]\n",
      " [0.40684669]\n",
      " [0.40725419]\n",
      " [0.40764887]\n",
      " [0.40803056]\n",
      " [0.40839913]\n",
      " [0.40875448]\n",
      " [0.40909659]\n",
      " [0.40942545]]\n"
     ]
    },
    {
     "data": {
      "text/plain": [
       "[<matplotlib.lines.Line2D at 0x28698873c50>]"
      ]
     },
     "execution_count": 50,
     "metadata": {},
     "output_type": "execute_result"
    },
    {
     "data": {
      "image/png": "[encoded data removed]",
      "text/plain": [
       "<Figure size 640x480 with 1 Axes>"
      ]
     },
     "metadata": {},
     "output_type": "display_data"
    }
   ],
   "source": [
    "nn = NeuralNetwork(\n",
    "    network_input_size=x.shape[1],\n",
    "    layer_output_sizes=[30, 6, 1],\n",
    "    activation_funcs=[sigmoid, sigmoid, sigmoid],\n",
    "    activation_ders=[sigmoid_der, sigmoid_der, sigmoid_der],\n",
    "    cost_func=mse,\n",
    "    cost_der=mse_der\n",
    ")\n",
    "\n",
    "layers = nn._create_layers()\n",
    "predict = nn._predict(x)\n",
    "grads = nn._backpropagate(x, y)\n",
    "print(len(grads))\n",
    "print(predict)\n",
    "\n",
    "plt.plot(x, y)\n",
    "plt.plot(x, predict)"
   ]
  },
  {
   "cell_type": "markdown",
   "id": "4f864e31",
   "metadata": {
    "editable": true
   },
   "source": [
    "### Part c): Testing against other software libraries\n",
    "\n",
    "You should test your results against a similar code using **Scikit-Learn** (see the examples in the above lecture notes from weeks 41 and 42) or **tensorflow/keras** or **Pytorch** (for Pytorch, see Raschka et al.'s text chapters 12 and 13). \n",
    "\n",
    "Furthermore, you should also test that your derivatives are correctly\n",
    "calculated using automatic differentiation, using for example the\n",
    "**Autograd** library or the **JAX** library. It is optional to implement\n",
    "these libraries for the present project. In this project they serve as\n",
    "useful tests of our derivatives."
   ]
  },
  {
   "cell_type": "markdown",
   "id": "c9faeafd",
   "metadata": {
    "editable": true
   },
   "source": [
    "### Part d): Testing different activation functions and depths of the neural network\n",
    "\n",
    "You should also test different activation functions for the hidden\n",
    "layers. Try out the Sigmoid, the RELU and the Leaky RELU functions and\n",
    "discuss your results.  Test your results as functions of the number of hidden layers and nodes. Do you see signs of overfitting?\n",
    "It is optional in this project to perform a bias-variance trade-off analysis."
   ]
  },
  {
   "cell_type": "markdown",
   "id": "d865c22b",
   "metadata": {
    "editable": true
   },
   "source": [
    "### Part e): Testing different norms\n",
    "\n",
    "Finally, still using the one-dimensional Runge function, add now the\n",
    "hyperparameters $\\lambda$ with the $L_2$ and $L_1$ norms.  Find the\n",
    "optimal results for the hyperparameters $\\lambda$ and the learning\n",
    "rates $\\eta$ and neural network architecture and compare the $L_2$ results with Ridge regression from\n",
    "project 1 and the $L_1$ results with the Lasso calculations of project 1.\n",
    "Use again the same data sets and the best results from project 1 in your comparisons."
   ]
  },
  {
   "cell_type": "markdown",
   "id": "5270af8f",
   "metadata": {
    "editable": true
   },
   "source": [
    "### Part f): Classification  analysis using neural networks\n",
    "\n",
    "With a well-written code it should now be easy to change the\n",
    "activation function for the output layer.\n",
    "\n",
    "Here we will change the cost function for our neural network code\n",
    "developed in parts b), d) and e) in order to perform a classification\n",
    "analysis.  The classification problem we will study is the multiclass\n",
    "MNIST problem, see the description of the full data set at\n",
    "<https://www.kaggle.com/datasets/hojjatk/mnist-dataset>. We will use the Softmax cross entropy function discussed in a). \n",
    "The MNIST data set discussed in the lecture notes from week 42 is a downscaled variant of the full dataset. \n",
    "\n",
    "Feel free to suggest other data sets. If you find the classic MNIST data set somewhat limited, feel free to try the  \n",
    "MNIST-Fashion data set at for example <https://www.kaggle.com/datasets/zalando-research/fashionmnist>.\n",
    "\n",
    "To set up the data set, the following python programs may be useful"
   ]
  },
  {
   "cell_type": "code",
   "execution_count": 1,
   "id": "4e0e1fea",
   "metadata": {
    "collapsed": false,
    "editable": true
   },
   "outputs": [],
   "source": [
    "from sklearn.datasets import fetch_openml\n",
    "\n",
    "# Fetch the MNIST dataset\n",
    "mnist = fetch_openml('mnist_784', version=1, as_frame=False, parser='auto')\n",
    "\n",
    "# Extract data (features) and target (labels)\n",
    "X = mnist.data\n",
    "y = mnist.target"
   ]
  },
  {
   "cell_type": "markdown",
   "id": "8fe85677",
   "metadata": {
    "editable": true
   },
   "source": [
    "You should consider scaling the data. The Pixel values in MNIST range from 0 to 255. Scaling them to a 0-1 range can improve the performance of some models. That is, you could implement the following scaling"
   ]
  },
  {
   "cell_type": "code",
   "execution_count": 2,
   "id": "b28318b2",
   "metadata": {
    "collapsed": false,
    "editable": true
   },
   "outputs": [],
   "source": [
    "X = X / 255.0"
   ]
  },
  {
   "cell_type": "markdown",
   "id": "97e02c71",
   "metadata": {
    "editable": true
   },
   "source": [
    "And then perform the standard train-test splitting"
   ]
  },
  {
   "cell_type": "code",
   "execution_count": 3,
   "id": "88af355c",
   "metadata": {
    "collapsed": false,
    "editable": true
   },
   "outputs": [],
   "source": [
    "from sklearn.model_selection import train_test_split\n",
    "X_train, X_test, y_train, y_test = train_test_split(X, y, test_size=0.2, random_state=42)"
   ]
  },
  {
   "cell_type": "markdown",
   "id": "d1f8f0ed",
   "metadata": {
    "editable": true
   },
   "source": [
    "To measure the performance of our classification problem we will use the\n",
    "so-called *accuracy* score.  The accuracy is as you would expect just\n",
    "the number of correctly guessed targets $t_i$ divided by the total\n",
    "number of targets, that is"
   ]
  },
  {
   "cell_type": "markdown",
   "id": "554b3a48",
   "metadata": {
    "editable": true
   },
   "source": [
    "$$\n",
    "\\text{Accuracy} = \\frac{\\sum_{i=1}^n I(t_i = y_i)}{n} ,\n",
    "$$"
   ]
  },
  {
   "cell_type": "markdown",
   "id": "77bfdd5c",
   "metadata": {
    "editable": true
   },
   "source": [
    "where $I$ is the indicator function, $1$ if $t_i = y_i$ and $0$\n",
    "otherwise if we have a binary classification problem. Here $t_i$\n",
    "represents the target and $y_i$ the outputs of your FFNN code and $n$ is simply the number of targets $t_i$.\n",
    "\n",
    "Discuss your results and give a critical analysis of the various parameters, including hyper-parameters like the learning rates and the regularization parameter $\\lambda$, various activation functions, number of hidden layers and nodes and activation functions.  \n",
    "\n",
    "Again, we strongly recommend that you compare your own neural Network\n",
    "code for classification and pertinent results against a similar code using **Scikit-Learn**  or **tensorflow/keras** or **pytorch**.\n",
    "\n",
    "If you have time, you can use the functionality of **scikit-learn** and compare your neural network results with those from Logistic regression. This is optional.\n",
    "The weblink  here <https://medium.com/ai-in-plain-english/comparison-between-logistic-regression-and-neural-networks-in-classifying-digits-dc5e85cd93c3>compares logistic regression and FFNN using the so-called MNIST data set. You may find several useful hints and ideas from this article. Your neural network code can implement the equivalent of logistic regression by simply setting the number of hidden layers to zero and keeping just the input and the output layers. \n",
    "\n",
    "If you wish to compare with say Logisti Regression from **scikit-learn**, the following code uses the above data set"
   ]
  },
  {
   "cell_type": "code",
   "execution_count": 4,
   "id": "eaa9e72e",
   "metadata": {
    "collapsed": false,
    "editable": true
   },
   "outputs": [],
   "source": [
    "from sklearn.linear_model import LogisticRegression\n",
    "# Initialize the model\n",
    "model = LogisticRegression(solver='saga', multi_class='multinomial', max_iter=1000, random_state=42)\n",
    "# Train the model\n",
    "model.fit(X_train, y_train)\n",
    "from sklearn.metrics import accuracy_score\n",
    "# Make predictions on the test set\n",
    "y_pred = model.predict(X_test)\n",
    "# Calculate accuracy\n",
    "accuracy = accuracy_score(y_test, y_pred)\n",
    "print(f\"Model Accuracy: {accuracy:.4f}\")"
   ]
  },
  {
   "cell_type": "markdown",
   "id": "c7ba883e",
   "metadata": {
    "editable": true
   },
   "source": [
    "### Part g) Critical evaluation of the various algorithms\n",
    "\n",
    "After all these glorious calculations, you should now summarize the\n",
    "various algorithms and come with a critical evaluation of their pros\n",
    "and cons. Which algorithm works best for the regression case and which\n",
    "is best for the classification case. These codes can also be part of\n",
    "your final project 3, but now applied to other data sets."
   ]
  },
  {
   "cell_type": "markdown",
   "id": "595be693",
   "metadata": {
    "editable": true
   },
   "source": [
    "## Summary of methods to implement and analyze\n",
    "\n",
    "**Required Implementation:**\n",
    "1. Reuse the regression code and results from project 1, these will act as a benchmark for seeing how suited a neural network is for this regression task.\n",
    "\n",
    "2. Implement a neural network with\n",
    "\n",
    "  * A flexible number of layers\n",
    "\n",
    "  * A flexible number of nodes in each layer\n",
    "\n",
    "  * A changeable activation function in each layer (Sigmoid, ReLU, LeakyReLU, as well as Linear and Softmax)\n",
    "\n",
    "  * A changeable cost function, which will be set to MSE for regression and cross-entropy for multiple-classification\n",
    "\n",
    "  * An optional L1 or L2 norm of the weights and biases in the cost function (only used for computing gradients, not interpretable metrics)\n",
    "\n",
    "3. Implement the back-propagation algorithm to compute the gradient of your neural network\n",
    "\n",
    "4. Reuse the implementation of Plain and Stochastic Gradient Descent from Project 1 (and adapt the code to work with the your neural network)\n",
    "\n",
    "  * With no optimization algorithm\n",
    "\n",
    "  * With RMS Prop\n",
    "\n",
    "  * With ADAM\n",
    "\n",
    "5. Implement scaling and train-test splitting of your data, preferably using sklearn\n",
    "\n",
    "6. Implement and compute metrics like the MSE and Accuracy"
   ]
  },
  {
   "cell_type": "markdown",
   "id": "35138b41",
   "metadata": {
    "editable": true
   },
   "source": [
    "### Required Analysis:\n",
    "\n",
    "1. Briefly show and argue for the advantages and disadvantages of the methods from Project 1.\n",
    "\n",
    "2. Explore and show the impact of changing the number of layers, nodes per layer, choice of activation function, and inclusion of L1 and L2 norms. Present only the most interesting results from this exploration. 2D Heatmaps will be good for this: Start with finding a well performing set of hyper-parameters, then change two at a time in a range that shows good and bad performance.\n",
    "\n",
    "3. Show and argue for the advantages and disadvantages of using a neural network for regression on your data\n",
    "\n",
    "4. Show and argue for the advantages and disadvantages of using a neural network for classification on your data\n",
    "\n",
    "5. Show and argue for the advantages and disadvantages of the different gradient methods and learning rates when training the neural network"
   ]
  },
  {
   "cell_type": "markdown",
   "id": "b18bea03",
   "metadata": {
    "editable": true
   },
   "source": [
    "### Optional (Note that you should include at least two of these in the report):\n",
    "\n",
    "1. Implement Logistic Regression as simple classification model case (equivalent to a Neural Network with just the output layer)\n",
    "\n",
    "2. Compute the gradient of the neural network with autograd, to show that it gives the same result as your hand-written backpropagation.\n",
    "\n",
    "3. Compare your results with results from using a machine-learning library like pytorch (https://docs.pytorch.org/tutorials/beginner/basics/buildmodel_tutorial.html)\n",
    "\n",
    "4. Use a more complex classification dataset instead, like the fashion MNIST (see <https://www.kaggle.com/datasets/zalando-research/fashionmnist>)\n",
    "\n",
    "5. Use a more complex regression dataset instead, like the two-dimensional Runge function $f(x,y)=\\left[(10x - 5)^2 + (10y - 5)^2 + 1 \\right]^{-1}$, or even more complicated two-dimensional functions (see the supplementary material of <https://www.nature.com/articles/s41467-025-61362-4> for an extensive list of two-dimensional functions). \n",
    "\n",
    "6. Compute and interpret a confusion matrix of your best classification model (see <https://www.researchgate.net/figure/Confusion-matrix-of-MNIST-and-F-MNIST-embeddings_fig5_349758607>)"
   ]
  },
  {
   "cell_type": "markdown",
   "id": "580d8424",
   "metadata": {
    "editable": true
   },
   "source": [
    "## Background literature\n",
    "\n",
    "1. The text of Michael Nielsen is highly recommended, see Nielsen's book at <http://neuralnetworksanddeeplearning.com/>. It is an excellent read.\n",
    "\n",
    "2. Goodfellow, Bengio and Courville, Deep Learning at <https://www.deeplearningbook.org/>. Here we recommend chapters 6, 7 and 8\n",
    "\n",
    "3. Raschka et al. at <https://sebastianraschka.com/blog/2022/ml-pytorch-book.html>. Here we recommend chapters 11, 12 and 13."
   ]
  },
  {
   "cell_type": "markdown",
   "id": "96f5c67e",
   "metadata": {
    "editable": true
   },
   "source": [
    "## Introduction to numerical projects\n",
    "\n",
    "Here follows a brief recipe and recommendation on how to write a report for each\n",
    "project.\n",
    "\n",
    "  * Give a short description of the nature of the problem and the eventual  numerical methods you have used.\n",
    "\n",
    "  * Describe the algorithm you have used and/or developed. Here you may find it convenient to use pseudocoding. In many cases you can describe the algorithm in the program itself.\n",
    "\n",
    "  * Include the source code of your program. Comment your program properly.\n",
    "\n",
    "  * If possible, try to find analytic solutions, or known limits in order to test your program when developing the code.\n",
    "\n",
    "  * Include your results either in figure form or in a table. Remember to        label your results. All tables and figures should have relevant captions        and labels on the axes.\n",
    "\n",
    "  * Try to evaluate the reliabilty and numerical stability/precision of your results. If possible, include a qualitative and/or quantitative discussion of the numerical stability, eventual loss of precision etc.\n",
    "\n",
    "  * Try to give an interpretation of you results in your answers to  the problems.\n",
    "\n",
    "  * Critique: if possible include your comments and reflections about the  exercise, whether you felt you learnt something, ideas for improvements and  other thoughts you've made when solving the exercise. We wish to keep this course at the interactive level and your comments can help us improve it.\n",
    "\n",
    "  * Try to establish a practice where you log your work at the  computerlab. You may find such a logbook very handy at later stages in your work, especially when you don't properly remember  what a previous test version  of your program did. Here you could also record  the time spent on solving the exercise, various algorithms you may have tested or other topics which you feel worthy of mentioning."
   ]
  },
  {
   "cell_type": "markdown",
   "id": "d1bc28ba",
   "metadata": {
    "editable": true
   },
   "source": [
    "## Format for electronic delivery of report and programs\n",
    "\n",
    "The preferred format for the report is a PDF file. You can also use DOC or postscript formats or as an ipython notebook file.  As programming language we prefer that you choose between C/C++, Fortran2008 or Python. The following prescription should be followed when preparing the report:\n",
    "\n",
    "  * Use Canvas to hand in your projects, log in  at  <https://www.uio.no/english/services/it/education/canvas/> with your normal UiO username and password.\n",
    "\n",
    "  * Upload **only** the report file or the link to your GitHub/GitLab or similar typo of  repos!  For the source code file(s) you have developed please provide us with your link to your GitHub/GitLab or similar  domain.  The report file should include all of your discussions and a list of the codes you have developed.  Do not include library files which are available at the course homepage, unless you have made specific changes to them.\n",
    "\n",
    "  * In your GitHub/GitLab or similar repository, please include a folder which contains selected results. These can be in the form of output from your code for a selected set of runs and input parameters.\n",
    "\n",
    "Finally, \n",
    "we encourage you to collaborate. Optimal working groups consist of \n",
    "2-3 students. You can then hand in a common report."
   ]
  }
 ],
 "metadata": {
  "kernelspec": {
   "display_name": "base",
   "language": "python",
   "name": "python3"
  },
  "language_info": {
   "codemirror_mode": {
    "name": "ipython",
    "version": 3
   },
   "file_extension": ".py",
   "mimetype": "text/x-python",
   "name": "python",
   "nbconvert_exporter": "python",
   "pygments_lexer": "ipython3",
   "version": "3.13.5"
  }
 },
 "nbformat": 4,
 "nbformat_minor": 5
}
